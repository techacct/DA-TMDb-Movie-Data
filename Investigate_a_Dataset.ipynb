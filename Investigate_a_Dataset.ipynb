{
 "cells": [
  {
   "cell_type": "markdown",
   "metadata": {},
   "source": [
    "# Project: Investigate a Dataset - TMDb Movie Data\n",
    "\n",
    "## Table of Contents\n",
    "<ul>\n",
    "<li><a href=\"#intro\">Introduction</a></li>\n",
    "<li><a href=\"#wrangling\">Data Wrangling</a></li>\n",
    "<li><a href=\"#eda\">Exploratory Data Analysis</a></li>\n",
    "<li><a href=\"#conclusions\">Conclusions</a></li>\n",
    "</ul>"
   ]
  },
  {
   "cell_type": "markdown",
   "metadata": {},
   "source": [
    "<a id='intro'></a>\n",
    "## Introduction\n",
    "\n",
    "### Dataset Description \n",
    "\n",
    "> This data set contains information about 10,000 movies collected from The Movie Database (TMDb), including user ratings and revenue. \n",
    ">- Certain columns, like ‘cast’ and ‘genres’, contain multiple values separated by pipe (|) characters. \n",
    ">- There are some odd characters in the ‘cast’ column. Don’t worry about cleaning them. You can leave them as is. \n",
    ">- The final two columns ending with “_adj” show the budget and revenue of the associated movie in terms of 2010 dollars, accounting for inflation over time.. \n",
    "\n",
    "\n",
    "### Question(s) for Analysis\n",
    "1. What is the Trend Analysis of the Dataset\n",
    "2. Which Director has the most film produced\n",
    "3. Which movie has cost savings in excess of $50 million"
   ]
  },
  {
   "cell_type": "markdown",
   "metadata": {},
   "source": [
    "### importing necessary libraries"
   ]
  },
  {
   "cell_type": "code",
   "execution_count": 1,
   "metadata": {},
   "outputs": [],
   "source": [
    "import numpy as np\n",
    "import pandas as pd\n",
    "import matplotlib.pyplot as plt\n",
    "import seaborn as sns\n",
    "\n",
    "#magic word use to show plot within the document\n",
    "%matplotlib inline\n",
    "#set maximum rows to display to 20000\n",
    "#pd.options.display.max_rows = 20000"
   ]
  },
  {
   "cell_type": "markdown",
   "metadata": {},
   "source": [
    "<a id='wrangling'></a>\n",
    "## Data Wrangling"
   ]
  },
  {
   "cell_type": "markdown",
   "metadata": {},
   "source": [
    "#### Loading the dataset and checking general information about the dataset"
   ]
  },
  {
   "cell_type": "code",
   "execution_count": 2,
   "metadata": {},
   "outputs": [],
   "source": [
    "mov_df = pd.read_csv('tmdb-movies.csv')"
   ]
  },
  {
   "cell_type": "code",
   "execution_count": 3,
   "metadata": {},
   "outputs": [
    {
     "data": {
      "text/html": [
       "<div>\n",
       "<style scoped>\n",
       "    .dataframe tbody tr th:only-of-type {\n",
       "        vertical-align: middle;\n",
       "    }\n",
       "\n",
       "    .dataframe tbody tr th {\n",
       "        vertical-align: top;\n",
       "    }\n",
       "\n",
       "    .dataframe thead th {\n",
       "        text-align: right;\n",
       "    }\n",
       "</style>\n",
       "<table border=\"1\" class=\"dataframe\">\n",
       "  <thead>\n",
       "    <tr style=\"text-align: right;\">\n",
       "      <th></th>\n",
       "      <th>id</th>\n",
       "      <th>imdb_id</th>\n",
       "      <th>popularity</th>\n",
       "      <th>budget</th>\n",
       "      <th>revenue</th>\n",
       "      <th>original_title</th>\n",
       "      <th>cast</th>\n",
       "      <th>homepage</th>\n",
       "      <th>director</th>\n",
       "      <th>tagline</th>\n",
       "      <th>...</th>\n",
       "      <th>overview</th>\n",
       "      <th>runtime</th>\n",
       "      <th>genres</th>\n",
       "      <th>production_companies</th>\n",
       "      <th>release_date</th>\n",
       "      <th>vote_count</th>\n",
       "      <th>vote_average</th>\n",
       "      <th>release_year</th>\n",
       "      <th>budget_adj</th>\n",
       "      <th>revenue_adj</th>\n",
       "    </tr>\n",
       "  </thead>\n",
       "  <tbody>\n",
       "    <tr>\n",
       "      <th>0</th>\n",
       "      <td>135397</td>\n",
       "      <td>tt0369610</td>\n",
       "      <td>32.985763</td>\n",
       "      <td>150000000</td>\n",
       "      <td>1513528810</td>\n",
       "      <td>Jurassic World</td>\n",
       "      <td>Chris Pratt|Bryce Dallas Howard|Irrfan Khan|Vi...</td>\n",
       "      <td>http://www.jurassicworld.com/</td>\n",
       "      <td>Colin Trevorrow</td>\n",
       "      <td>The park is open.</td>\n",
       "      <td>...</td>\n",
       "      <td>Twenty-two years after the events of Jurassic ...</td>\n",
       "      <td>124</td>\n",
       "      <td>Action|Adventure|Science Fiction|Thriller</td>\n",
       "      <td>Universal Studios|Amblin Entertainment|Legenda...</td>\n",
       "      <td>6/9/15</td>\n",
       "      <td>5562</td>\n",
       "      <td>6.5</td>\n",
       "      <td>2015</td>\n",
       "      <td>1.379999e+08</td>\n",
       "      <td>1.392446e+09</td>\n",
       "    </tr>\n",
       "    <tr>\n",
       "      <th>1</th>\n",
       "      <td>76341</td>\n",
       "      <td>tt1392190</td>\n",
       "      <td>28.419936</td>\n",
       "      <td>150000000</td>\n",
       "      <td>378436354</td>\n",
       "      <td>Mad Max: Fury Road</td>\n",
       "      <td>Tom Hardy|Charlize Theron|Hugh Keays-Byrne|Nic...</td>\n",
       "      <td>http://www.madmaxmovie.com/</td>\n",
       "      <td>George Miller</td>\n",
       "      <td>What a Lovely Day.</td>\n",
       "      <td>...</td>\n",
       "      <td>An apocalyptic story set in the furthest reach...</td>\n",
       "      <td>120</td>\n",
       "      <td>Action|Adventure|Science Fiction|Thriller</td>\n",
       "      <td>Village Roadshow Pictures|Kennedy Miller Produ...</td>\n",
       "      <td>5/13/15</td>\n",
       "      <td>6185</td>\n",
       "      <td>7.1</td>\n",
       "      <td>2015</td>\n",
       "      <td>1.379999e+08</td>\n",
       "      <td>3.481613e+08</td>\n",
       "    </tr>\n",
       "  </tbody>\n",
       "</table>\n",
       "<p>2 rows × 21 columns</p>\n",
       "</div>"
      ],
      "text/plain": [
       "       id    imdb_id  popularity     budget     revenue      original_title  \\\n",
       "0  135397  tt0369610   32.985763  150000000  1513528810      Jurassic World   \n",
       "1   76341  tt1392190   28.419936  150000000   378436354  Mad Max: Fury Road   \n",
       "\n",
       "                                                cast  \\\n",
       "0  Chris Pratt|Bryce Dallas Howard|Irrfan Khan|Vi...   \n",
       "1  Tom Hardy|Charlize Theron|Hugh Keays-Byrne|Nic...   \n",
       "\n",
       "                        homepage         director             tagline  ...  \\\n",
       "0  http://www.jurassicworld.com/  Colin Trevorrow   The park is open.  ...   \n",
       "1    http://www.madmaxmovie.com/    George Miller  What a Lovely Day.  ...   \n",
       "\n",
       "                                            overview runtime  \\\n",
       "0  Twenty-two years after the events of Jurassic ...     124   \n",
       "1  An apocalyptic story set in the furthest reach...     120   \n",
       "\n",
       "                                      genres  \\\n",
       "0  Action|Adventure|Science Fiction|Thriller   \n",
       "1  Action|Adventure|Science Fiction|Thriller   \n",
       "\n",
       "                                production_companies release_date vote_count  \\\n",
       "0  Universal Studios|Amblin Entertainment|Legenda...       6/9/15       5562   \n",
       "1  Village Roadshow Pictures|Kennedy Miller Produ...      5/13/15       6185   \n",
       "\n",
       "   vote_average  release_year    budget_adj   revenue_adj  \n",
       "0           6.5          2015  1.379999e+08  1.392446e+09  \n",
       "1           7.1          2015  1.379999e+08  3.481613e+08  \n",
       "\n",
       "[2 rows x 21 columns]"
      ]
     },
     "execution_count": 3,
     "metadata": {},
     "output_type": "execute_result"
    }
   ],
   "source": [
    "#inspecting a few of the dataset\n",
    "mov_df.head(2)"
   ]
  },
  {
   "cell_type": "code",
   "execution_count": 4,
   "metadata": {},
   "outputs": [
    {
     "name": "stdout",
     "output_type": "stream",
     "text": [
      "<class 'pandas.core.frame.DataFrame'>\n",
      "RangeIndex: 10866 entries, 0 to 10865\n",
      "Data columns (total 21 columns):\n",
      " #   Column                Non-Null Count  Dtype  \n",
      "---  ------                --------------  -----  \n",
      " 0   id                    10866 non-null  int64  \n",
      " 1   imdb_id               10856 non-null  object \n",
      " 2   popularity            10866 non-null  float64\n",
      " 3   budget                10866 non-null  int64  \n",
      " 4   revenue               10866 non-null  int64  \n",
      " 5   original_title        10866 non-null  object \n",
      " 6   cast                  10790 non-null  object \n",
      " 7   homepage              2936 non-null   object \n",
      " 8   director              10822 non-null  object \n",
      " 9   tagline               8042 non-null   object \n",
      " 10  keywords              9373 non-null   object \n",
      " 11  overview              10862 non-null  object \n",
      " 12  runtime               10866 non-null  int64  \n",
      " 13  genres                10843 non-null  object \n",
      " 14  production_companies  9836 non-null   object \n",
      " 15  release_date          10866 non-null  object \n",
      " 16  vote_count            10866 non-null  int64  \n",
      " 17  vote_average          10866 non-null  float64\n",
      " 18  release_year          10866 non-null  int64  \n",
      " 19  budget_adj            10866 non-null  float64\n",
      " 20  revenue_adj           10866 non-null  float64\n",
      "dtypes: float64(4), int64(6), object(11)\n",
      "memory usage: 1.7+ MB\n"
     ]
    }
   ],
   "source": [
    "#checking the dataset to information\n",
    "mov_df.info()"
   ]
  },
  {
   "cell_type": "markdown",
   "metadata": {},
   "source": [
    "#### There are a lot of duplicates that we need to explore, the release date need to be change from string to datetime, there are columns that will not impact our analysis, such as tagline, homepage, keywords, as such they need to be dropped"
   ]
  },
  {
   "cell_type": "code",
   "execution_count": 5,
   "metadata": {},
   "outputs": [
    {
     "data": {
      "text/plain": [
       "id                      10865\n",
       "imdb_id                 10855\n",
       "popularity              10814\n",
       "budget                    557\n",
       "revenue                  4702\n",
       "original_title          10571\n",
       "cast                    10719\n",
       "homepage                 2896\n",
       "director                 5067\n",
       "tagline                  7997\n",
       "keywords                 8804\n",
       "overview                10847\n",
       "runtime                   247\n",
       "genres                   2039\n",
       "production_companies     7445\n",
       "release_date             5909\n",
       "vote_count               1289\n",
       "vote_average               72\n",
       "release_year               56\n",
       "budget_adj               2614\n",
       "revenue_adj              4840\n",
       "dtype: int64"
      ]
     },
     "execution_count": 5,
     "metadata": {},
     "output_type": "execute_result"
    }
   ],
   "source": [
    "mov_df.nunique()"
   ]
  },
  {
   "cell_type": "markdown",
   "metadata": {},
   "source": [
    "#### though there are 10866 samples, the unique record for movie title is 10,571, which suggest that thre are duplicates and since this samples are about movies, it makes sence to work with the unique records in our analysis. we will also check to see why revenue is 4702, are there movies that did not generate revenues?"
   ]
  },
  {
   "cell_type": "markdown",
   "metadata": {},
   "source": [
    "\n",
    "### Data Cleaning\n",
    "1. remove duplicate titles\n",
    "2. The following column will be remove as they will not impact on the analysis\n",
    "    - id\n",
    "    - imdb_id\n",
    "    - homepage\n",
    "    - tagline\n",
    "    - keywords\n",
    "    - overview\n",
    "3. release date should be of the datetime data type\n",
    "4. we will check for duplicates and remove them\n",
    "5. ensure the data type are right for analysis "
   ]
  },
  {
   "cell_type": "markdown",
   "metadata": {},
   "source": [
    "#### check for dupicates in the dataset and how many are in the dataset"
   ]
  },
  {
   "cell_type": "code",
   "execution_count": 6,
   "metadata": {},
   "outputs": [
    {
     "data": {
      "text/plain": [
       "295"
      ]
     },
     "execution_count": 6,
     "metadata": {},
     "output_type": "execute_result"
    }
   ],
   "source": [
    "#checking for duplicates and the count\n",
    "dup_title = mov_df[mov_df['original_title'].duplicated() ==True]\n",
    "dup_title['original_title'].count()"
   ]
  },
  {
   "cell_type": "markdown",
   "metadata": {},
   "source": [
    "#### removing the duplicates"
   ]
  },
  {
   "cell_type": "code",
   "execution_count": 8,
   "metadata": {},
   "outputs": [],
   "source": [
    "dup_data = dup_title['original_title'].index\n",
    "\n",
    "def drop_dup_movie():\n",
    "    mov_df.drop(dup_data, axis=0, inplace=True)\n",
    "\n",
    "drop_dup_movie()"
   ]
  },
  {
   "cell_type": "code",
   "execution_count": 9,
   "metadata": {},
   "outputs": [
    {
     "name": "stdout",
     "output_type": "stream",
     "text": [
      "<class 'pandas.core.frame.DataFrame'>\n",
      "Int64Index: 10571 entries, 0 to 10865\n",
      "Data columns (total 21 columns):\n",
      " #   Column                Non-Null Count  Dtype  \n",
      "---  ------                --------------  -----  \n",
      " 0   id                    10571 non-null  int64  \n",
      " 1   imdb_id               10561 non-null  object \n",
      " 2   popularity            10571 non-null  float64\n",
      " 3   budget                10571 non-null  int64  \n",
      " 4   revenue               10571 non-null  int64  \n",
      " 5   original_title        10571 non-null  object \n",
      " 6   cast                  10497 non-null  object \n",
      " 7   homepage              2894 non-null   object \n",
      " 8   director              10528 non-null  object \n",
      " 9   tagline               7799 non-null   object \n",
      " 10  keywords              9104 non-null   object \n",
      " 11  overview              10567 non-null  object \n",
      " 12  runtime               10571 non-null  int64  \n",
      " 13  genres                10548 non-null  object \n",
      " 14  production_companies  9552 non-null   object \n",
      " 15  release_date          10571 non-null  object \n",
      " 16  vote_count            10571 non-null  int64  \n",
      " 17  vote_average          10571 non-null  float64\n",
      " 18  release_year          10571 non-null  int64  \n",
      " 19  budget_adj            10571 non-null  float64\n",
      " 20  revenue_adj           10571 non-null  float64\n",
      "dtypes: float64(4), int64(6), object(11)\n",
      "memory usage: 1.8+ MB\n"
     ]
    }
   ],
   "source": [
    "mov_df.info()"
   ]
  },
  {
   "cell_type": "markdown",
   "metadata": {},
   "source": [
    "#### removing columns not needed in our analysis"
   ]
  },
  {
   "cell_type": "code",
   "execution_count": 10,
   "metadata": {},
   "outputs": [],
   "source": [
    "#Columns to drop\n",
    "col_to_drop = ['id', 'imdb_id', 'homepage', 'tagline', 'keywords', 'overview' ]"
   ]
  },
  {
   "cell_type": "code",
   "execution_count": 11,
   "metadata": {},
   "outputs": [],
   "source": [
    "#Droping the columns\n",
    "\n",
    "def drop_cols(cols):\n",
    "    for col in cols:\n",
    "        mov_df.drop(col, axis=1, inplace=True)\n",
    "        \n",
    "drop_cols(col_to_drop)"
   ]
  },
  {
   "cell_type": "code",
   "execution_count": 12,
   "metadata": {},
   "outputs": [
    {
     "name": "stdout",
     "output_type": "stream",
     "text": [
      "<class 'pandas.core.frame.DataFrame'>\n",
      "Int64Index: 10571 entries, 0 to 10865\n",
      "Data columns (total 15 columns):\n",
      " #   Column                Non-Null Count  Dtype  \n",
      "---  ------                --------------  -----  \n",
      " 0   popularity            10571 non-null  float64\n",
      " 1   budget                10571 non-null  int64  \n",
      " 2   revenue               10571 non-null  int64  \n",
      " 3   original_title        10571 non-null  object \n",
      " 4   cast                  10497 non-null  object \n",
      " 5   director              10528 non-null  object \n",
      " 6   runtime               10571 non-null  int64  \n",
      " 7   genres                10548 non-null  object \n",
      " 8   production_companies  9552 non-null   object \n",
      " 9   release_date          10571 non-null  object \n",
      " 10  vote_count            10571 non-null  int64  \n",
      " 11  vote_average          10571 non-null  float64\n",
      " 12  release_year          10571 non-null  int64  \n",
      " 13  budget_adj            10571 non-null  float64\n",
      " 14  revenue_adj           10571 non-null  float64\n",
      "dtypes: float64(4), int64(5), object(6)\n",
      "memory usage: 1.3+ MB\n"
     ]
    }
   ],
   "source": [
    "#confirming that the columns were drpped\n",
    "mov_df.info()"
   ]
  },
  {
   "cell_type": "markdown",
   "metadata": {},
   "source": [
    "#### There appear to still exist missing data in cast, director, genres and production companies, but these missing data can be ignored"
   ]
  },
  {
   "cell_type": "markdown",
   "metadata": {},
   "source": [
    "#### converting the release date from string to datetime data type"
   ]
  },
  {
   "cell_type": "code",
   "execution_count": 13,
   "metadata": {},
   "outputs": [],
   "source": [
    "#converting the release date to datetime\n",
    "mov_df['release_date'] = pd.to_datetime(mov_df['release_date'])"
   ]
  },
  {
   "cell_type": "code",
   "execution_count": 14,
   "metadata": {},
   "outputs": [
    {
     "name": "stdout",
     "output_type": "stream",
     "text": [
      "<class 'pandas.core.frame.DataFrame'>\n",
      "Int64Index: 10571 entries, 0 to 10865\n",
      "Data columns (total 15 columns):\n",
      " #   Column                Non-Null Count  Dtype         \n",
      "---  ------                --------------  -----         \n",
      " 0   popularity            10571 non-null  float64       \n",
      " 1   budget                10571 non-null  int64         \n",
      " 2   revenue               10571 non-null  int64         \n",
      " 3   original_title        10571 non-null  object        \n",
      " 4   cast                  10497 non-null  object        \n",
      " 5   director              10528 non-null  object        \n",
      " 6   runtime               10571 non-null  int64         \n",
      " 7   genres                10548 non-null  object        \n",
      " 8   production_companies  9552 non-null   object        \n",
      " 9   release_date          10571 non-null  datetime64[ns]\n",
      " 10  vote_count            10571 non-null  int64         \n",
      " 11  vote_average          10571 non-null  float64       \n",
      " 12  release_year          10571 non-null  int64         \n",
      " 13  budget_adj            10571 non-null  float64       \n",
      " 14  revenue_adj           10571 non-null  float64       \n",
      "dtypes: datetime64[ns](1), float64(4), int64(5), object(5)\n",
      "memory usage: 1.3+ MB\n"
     ]
    }
   ],
   "source": [
    "#checking the data information\n",
    "mov_df.info()"
   ]
  },
  {
   "cell_type": "code",
   "execution_count": 15,
   "metadata": {},
   "outputs": [
    {
     "data": {
      "text/plain": [
       "0"
      ]
     },
     "execution_count": 15,
     "metadata": {},
     "output_type": "execute_result"
    }
   ],
   "source": [
    "mov_df.duplicated().sum()"
   ]
  },
  {
   "cell_type": "markdown",
   "metadata": {},
   "source": [
    "### The dataset is now free of duplicates"
   ]
  },
  {
   "cell_type": "markdown",
   "metadata": {},
   "source": [
    "#### check for movie that had no budget and zerio revenue"
   ]
  },
  {
   "cell_type": "code",
   "execution_count": 16,
   "metadata": {},
   "outputs": [
    {
     "data": {
      "text/html": [
       "<div>\n",
       "<style scoped>\n",
       "    .dataframe tbody tr th:only-of-type {\n",
       "        vertical-align: middle;\n",
       "    }\n",
       "\n",
       "    .dataframe tbody tr th {\n",
       "        vertical-align: top;\n",
       "    }\n",
       "\n",
       "    .dataframe thead th {\n",
       "        text-align: right;\n",
       "    }\n",
       "</style>\n",
       "<table border=\"1\" class=\"dataframe\">\n",
       "  <thead>\n",
       "    <tr style=\"text-align: right;\">\n",
       "      <th></th>\n",
       "      <th>popularity</th>\n",
       "      <th>budget</th>\n",
       "      <th>revenue</th>\n",
       "      <th>original_title</th>\n",
       "      <th>cast</th>\n",
       "      <th>director</th>\n",
       "      <th>runtime</th>\n",
       "      <th>genres</th>\n",
       "      <th>production_companies</th>\n",
       "      <th>release_date</th>\n",
       "      <th>vote_count</th>\n",
       "      <th>vote_average</th>\n",
       "      <th>release_year</th>\n",
       "      <th>budget_adj</th>\n",
       "      <th>revenue_adj</th>\n",
       "    </tr>\n",
       "  </thead>\n",
       "  <tbody>\n",
       "    <tr>\n",
       "      <th>48</th>\n",
       "      <td>2.932340</td>\n",
       "      <td>30000000</td>\n",
       "      <td>0</td>\n",
       "      <td>Wild Card</td>\n",
       "      <td>Jason Statham|Michael Angarano|Milo Ventimigli...</td>\n",
       "      <td>Simon West</td>\n",
       "      <td>92</td>\n",
       "      <td>Thriller|Crime|Drama</td>\n",
       "      <td>Current Entertainment|Lionsgate|Sierra / Affin...</td>\n",
       "      <td>2015-01-14</td>\n",
       "      <td>481</td>\n",
       "      <td>5.3</td>\n",
       "      <td>2015</td>\n",
       "      <td>2.759999e+07</td>\n",
       "      <td>0.0</td>\n",
       "    </tr>\n",
       "    <tr>\n",
       "      <th>67</th>\n",
       "      <td>2.331636</td>\n",
       "      <td>20000000</td>\n",
       "      <td>0</td>\n",
       "      <td>Survivor</td>\n",
       "      <td>Pierce Brosnan|Milla Jovovich|Dylan McDermott|...</td>\n",
       "      <td>James McTeigue</td>\n",
       "      <td>96</td>\n",
       "      <td>Crime|Thriller|Action</td>\n",
       "      <td>Nu Image Films|Winkler Films|Millennium Films|...</td>\n",
       "      <td>2015-05-21</td>\n",
       "      <td>280</td>\n",
       "      <td>5.4</td>\n",
       "      <td>2015</td>\n",
       "      <td>1.839999e+07</td>\n",
       "      <td>0.0</td>\n",
       "    </tr>\n",
       "    <tr>\n",
       "      <th>74</th>\n",
       "      <td>2.165433</td>\n",
       "      <td>0</td>\n",
       "      <td>0</td>\n",
       "      <td>Mythica: The Darkspore</td>\n",
       "      <td>Melanie Stone|Kevin Sorbo|Adam Johnson|Jake St...</td>\n",
       "      <td>Anne K. Black</td>\n",
       "      <td>108</td>\n",
       "      <td>Action|Adventure|Fantasy</td>\n",
       "      <td>Arrowstorm Entertainment</td>\n",
       "      <td>2015-06-24</td>\n",
       "      <td>27</td>\n",
       "      <td>5.1</td>\n",
       "      <td>2015</td>\n",
       "      <td>0.000000e+00</td>\n",
       "      <td>0.0</td>\n",
       "    </tr>\n",
       "    <tr>\n",
       "      <th>75</th>\n",
       "      <td>2.141506</td>\n",
       "      <td>0</td>\n",
       "      <td>0</td>\n",
       "      <td>Me and Earl and the Dying Girl</td>\n",
       "      <td>Thomas Mann|RJ Cyler|Olivia Cooke|Connie Britt...</td>\n",
       "      <td>Alfonso Gomez-Rejon</td>\n",
       "      <td>105</td>\n",
       "      <td>Comedy|Drama</td>\n",
       "      <td>Indian Paintbrush</td>\n",
       "      <td>2015-06-12</td>\n",
       "      <td>569</td>\n",
       "      <td>7.7</td>\n",
       "      <td>2015</td>\n",
       "      <td>0.000000e+00</td>\n",
       "      <td>0.0</td>\n",
       "    </tr>\n",
       "    <tr>\n",
       "      <th>92</th>\n",
       "      <td>1.876037</td>\n",
       "      <td>0</td>\n",
       "      <td>0</td>\n",
       "      <td>Mythica: The Necromancer</td>\n",
       "      <td>Melanie Stone|Adam Johnson|Kevin Sorbo|Nicola ...</td>\n",
       "      <td>A. Todd Smith</td>\n",
       "      <td>0</td>\n",
       "      <td>Fantasy|Action|Adventure</td>\n",
       "      <td>Arrowstorm Entertainment|Camera 40 Productions...</td>\n",
       "      <td>2015-12-19</td>\n",
       "      <td>11</td>\n",
       "      <td>5.4</td>\n",
       "      <td>2015</td>\n",
       "      <td>0.000000e+00</td>\n",
       "      <td>0.0</td>\n",
       "    </tr>\n",
       "    <tr>\n",
       "      <th>...</th>\n",
       "      <td>...</td>\n",
       "      <td>...</td>\n",
       "      <td>...</td>\n",
       "      <td>...</td>\n",
       "      <td>...</td>\n",
       "      <td>...</td>\n",
       "      <td>...</td>\n",
       "      <td>...</td>\n",
       "      <td>...</td>\n",
       "      <td>...</td>\n",
       "      <td>...</td>\n",
       "      <td>...</td>\n",
       "      <td>...</td>\n",
       "      <td>...</td>\n",
       "      <td>...</td>\n",
       "    </tr>\n",
       "    <tr>\n",
       "      <th>10861</th>\n",
       "      <td>0.080598</td>\n",
       "      <td>0</td>\n",
       "      <td>0</td>\n",
       "      <td>The Endless Summer</td>\n",
       "      <td>Michael Hynson|Robert August|Lord 'Tally Ho' B...</td>\n",
       "      <td>Bruce Brown</td>\n",
       "      <td>95</td>\n",
       "      <td>Documentary</td>\n",
       "      <td>Bruce Brown Films</td>\n",
       "      <td>2066-06-15</td>\n",
       "      <td>11</td>\n",
       "      <td>7.4</td>\n",
       "      <td>1966</td>\n",
       "      <td>0.000000e+00</td>\n",
       "      <td>0.0</td>\n",
       "    </tr>\n",
       "    <tr>\n",
       "      <th>10862</th>\n",
       "      <td>0.065543</td>\n",
       "      <td>0</td>\n",
       "      <td>0</td>\n",
       "      <td>Grand Prix</td>\n",
       "      <td>James Garner|Eva Marie Saint|Yves Montand|Tosh...</td>\n",
       "      <td>John Frankenheimer</td>\n",
       "      <td>176</td>\n",
       "      <td>Action|Adventure|Drama</td>\n",
       "      <td>Cherokee Productions|Joel Productions|Douglas ...</td>\n",
       "      <td>2066-12-21</td>\n",
       "      <td>20</td>\n",
       "      <td>5.7</td>\n",
       "      <td>1966</td>\n",
       "      <td>0.000000e+00</td>\n",
       "      <td>0.0</td>\n",
       "    </tr>\n",
       "    <tr>\n",
       "      <th>10863</th>\n",
       "      <td>0.065141</td>\n",
       "      <td>0</td>\n",
       "      <td>0</td>\n",
       "      <td>Beregis Avtomobilya</td>\n",
       "      <td>Innokentiy Smoktunovskiy|Oleg Efremov|Georgi Z...</td>\n",
       "      <td>Eldar Ryazanov</td>\n",
       "      <td>94</td>\n",
       "      <td>Mystery|Comedy</td>\n",
       "      <td>Mosfilm</td>\n",
       "      <td>2066-01-01</td>\n",
       "      <td>11</td>\n",
       "      <td>6.5</td>\n",
       "      <td>1966</td>\n",
       "      <td>0.000000e+00</td>\n",
       "      <td>0.0</td>\n",
       "    </tr>\n",
       "    <tr>\n",
       "      <th>10864</th>\n",
       "      <td>0.064317</td>\n",
       "      <td>0</td>\n",
       "      <td>0</td>\n",
       "      <td>What's Up, Tiger Lily?</td>\n",
       "      <td>Tatsuya Mihashi|Akiko Wakabayashi|Mie Hama|Joh...</td>\n",
       "      <td>Woody Allen</td>\n",
       "      <td>80</td>\n",
       "      <td>Action|Comedy</td>\n",
       "      <td>Benedict Pictures Corp.</td>\n",
       "      <td>2066-11-02</td>\n",
       "      <td>22</td>\n",
       "      <td>5.4</td>\n",
       "      <td>1966</td>\n",
       "      <td>0.000000e+00</td>\n",
       "      <td>0.0</td>\n",
       "    </tr>\n",
       "    <tr>\n",
       "      <th>10865</th>\n",
       "      <td>0.035919</td>\n",
       "      <td>19000</td>\n",
       "      <td>0</td>\n",
       "      <td>Manos: The Hands of Fate</td>\n",
       "      <td>Harold P. Warren|Tom Neyman|John Reynolds|Dian...</td>\n",
       "      <td>Harold P. Warren</td>\n",
       "      <td>74</td>\n",
       "      <td>Horror</td>\n",
       "      <td>Norm-Iris</td>\n",
       "      <td>2066-11-15</td>\n",
       "      <td>15</td>\n",
       "      <td>1.5</td>\n",
       "      <td>1966</td>\n",
       "      <td>1.276423e+05</td>\n",
       "      <td>0.0</td>\n",
       "    </tr>\n",
       "  </tbody>\n",
       "</table>\n",
       "<p>5845 rows × 15 columns</p>\n",
       "</div>"
      ],
      "text/plain": [
       "       popularity    budget  revenue                  original_title  \\\n",
       "48       2.932340  30000000        0                       Wild Card   \n",
       "67       2.331636  20000000        0                        Survivor   \n",
       "74       2.165433         0        0          Mythica: The Darkspore   \n",
       "75       2.141506         0        0  Me and Earl and the Dying Girl   \n",
       "92       1.876037         0        0        Mythica: The Necromancer   \n",
       "...           ...       ...      ...                             ...   \n",
       "10861    0.080598         0        0              The Endless Summer   \n",
       "10862    0.065543         0        0                      Grand Prix   \n",
       "10863    0.065141         0        0             Beregis Avtomobilya   \n",
       "10864    0.064317         0        0          What's Up, Tiger Lily?   \n",
       "10865    0.035919     19000        0        Manos: The Hands of Fate   \n",
       "\n",
       "                                                    cast             director  \\\n",
       "48     Jason Statham|Michael Angarano|Milo Ventimigli...           Simon West   \n",
       "67     Pierce Brosnan|Milla Jovovich|Dylan McDermott|...       James McTeigue   \n",
       "74     Melanie Stone|Kevin Sorbo|Adam Johnson|Jake St...        Anne K. Black   \n",
       "75     Thomas Mann|RJ Cyler|Olivia Cooke|Connie Britt...  Alfonso Gomez-Rejon   \n",
       "92     Melanie Stone|Adam Johnson|Kevin Sorbo|Nicola ...        A. Todd Smith   \n",
       "...                                                  ...                  ...   \n",
       "10861  Michael Hynson|Robert August|Lord 'Tally Ho' B...          Bruce Brown   \n",
       "10862  James Garner|Eva Marie Saint|Yves Montand|Tosh...   John Frankenheimer   \n",
       "10863  Innokentiy Smoktunovskiy|Oleg Efremov|Georgi Z...       Eldar Ryazanov   \n",
       "10864  Tatsuya Mihashi|Akiko Wakabayashi|Mie Hama|Joh...          Woody Allen   \n",
       "10865  Harold P. Warren|Tom Neyman|John Reynolds|Dian...     Harold P. Warren   \n",
       "\n",
       "       runtime                    genres  \\\n",
       "48          92      Thriller|Crime|Drama   \n",
       "67          96     Crime|Thriller|Action   \n",
       "74         108  Action|Adventure|Fantasy   \n",
       "75         105              Comedy|Drama   \n",
       "92           0  Fantasy|Action|Adventure   \n",
       "...        ...                       ...   \n",
       "10861       95               Documentary   \n",
       "10862      176    Action|Adventure|Drama   \n",
       "10863       94            Mystery|Comedy   \n",
       "10864       80             Action|Comedy   \n",
       "10865       74                    Horror   \n",
       "\n",
       "                                    production_companies release_date  \\\n",
       "48     Current Entertainment|Lionsgate|Sierra / Affin...   2015-01-14   \n",
       "67     Nu Image Films|Winkler Films|Millennium Films|...   2015-05-21   \n",
       "74                              Arrowstorm Entertainment   2015-06-24   \n",
       "75                                     Indian Paintbrush   2015-06-12   \n",
       "92     Arrowstorm Entertainment|Camera 40 Productions...   2015-12-19   \n",
       "...                                                  ...          ...   \n",
       "10861                                  Bruce Brown Films   2066-06-15   \n",
       "10862  Cherokee Productions|Joel Productions|Douglas ...   2066-12-21   \n",
       "10863                                            Mosfilm   2066-01-01   \n",
       "10864                            Benedict Pictures Corp.   2066-11-02   \n",
       "10865                                          Norm-Iris   2066-11-15   \n",
       "\n",
       "       vote_count  vote_average  release_year    budget_adj  revenue_adj  \n",
       "48            481           5.3          2015  2.759999e+07          0.0  \n",
       "67            280           5.4          2015  1.839999e+07          0.0  \n",
       "74             27           5.1          2015  0.000000e+00          0.0  \n",
       "75            569           7.7          2015  0.000000e+00          0.0  \n",
       "92             11           5.4          2015  0.000000e+00          0.0  \n",
       "...           ...           ...           ...           ...          ...  \n",
       "10861          11           7.4          1966  0.000000e+00          0.0  \n",
       "10862          20           5.7          1966  0.000000e+00          0.0  \n",
       "10863          11           6.5          1966  0.000000e+00          0.0  \n",
       "10864          22           5.4          1966  0.000000e+00          0.0  \n",
       "10865          15           1.5          1966  1.276423e+05          0.0  \n",
       "\n",
       "[5845 rows x 15 columns]"
      ]
     },
     "execution_count": 16,
     "metadata": {},
     "output_type": "execute_result"
    }
   ],
   "source": [
    "#check to ensure we do not have 0 revenue or in the adjusted revenue\n",
    "mov_df.query('revenue == 0 and revenue_adj ==0')"
   ]
  },
  {
   "cell_type": "markdown",
   "metadata": {},
   "source": [
    "### We will also remove these data because they did not generate any revenue"
   ]
  },
  {
   "cell_type": "code",
   "execution_count": 17,
   "metadata": {},
   "outputs": [],
   "source": [
    "zero_rev_mov_index = mov_df.query('revenue == 0 and revenue_adj ==0').index"
   ]
  },
  {
   "cell_type": "code",
   "execution_count": 18,
   "metadata": {},
   "outputs": [
    {
     "data": {
      "text/plain": [
       "Int64Index([   48,    67,    74,    75,    92,    93,   100,   101,   103,\n",
       "              116,\n",
       "            ...\n",
       "            10856, 10857, 10858, 10859, 10860, 10861, 10862, 10863, 10864,\n",
       "            10865],\n",
       "           dtype='int64', length=5845)"
      ]
     },
     "execution_count": 18,
     "metadata": {},
     "output_type": "execute_result"
    }
   ],
   "source": [
    "zero_rev_mov_index"
   ]
  },
  {
   "cell_type": "code",
   "execution_count": 19,
   "metadata": {},
   "outputs": [],
   "source": [
    "mov_df.drop(zero_rev_mov_index, axis=0, inplace=True)"
   ]
  },
  {
   "cell_type": "code",
   "execution_count": 20,
   "metadata": {},
   "outputs": [
    {
     "name": "stdout",
     "output_type": "stream",
     "text": [
      "<class 'pandas.core.frame.DataFrame'>\n",
      "Int64Index: 4726 entries, 0 to 10848\n",
      "Data columns (total 15 columns):\n",
      " #   Column                Non-Null Count  Dtype         \n",
      "---  ------                --------------  -----         \n",
      " 0   popularity            4726 non-null   float64       \n",
      " 1   budget                4726 non-null   int64         \n",
      " 2   revenue               4726 non-null   int64         \n",
      " 3   original_title        4726 non-null   object        \n",
      " 4   cast                  4721 non-null   object        \n",
      " 5   director              4725 non-null   object        \n",
      " 6   runtime               4726 non-null   int64         \n",
      " 7   genres                4726 non-null   object        \n",
      " 8   production_companies  4631 non-null   object        \n",
      " 9   release_date          4726 non-null   datetime64[ns]\n",
      " 10  vote_count            4726 non-null   int64         \n",
      " 11  vote_average          4726 non-null   float64       \n",
      " 12  release_year          4726 non-null   int64         \n",
      " 13  budget_adj            4726 non-null   float64       \n",
      " 14  revenue_adj           4726 non-null   float64       \n",
      "dtypes: datetime64[ns](1), float64(4), int64(5), object(5)\n",
      "memory usage: 590.8+ KB\n"
     ]
    }
   ],
   "source": [
    "mov_df.info()"
   ]
  },
  {
   "cell_type": "code",
   "execution_count": 21,
   "metadata": {},
   "outputs": [],
   "source": [
    "mov_df.to_csv('clean_mov_df', index=False)"
   ]
  },
  {
   "cell_type": "markdown",
   "metadata": {},
   "source": [
    "### This dataset is now clean and ready for analysis"
   ]
  },
  {
   "cell_type": "markdown",
   "metadata": {},
   "source": [
    "<a id='eda'></a>\n",
    "## Exploratory Data Analysis\n",
    "\n",
    "\n",
    "\n",
    "### Research Question 1 What is the Trend Analysis of the dataset"
   ]
  },
  {
   "cell_type": "code",
   "execution_count": 22,
   "metadata": {},
   "outputs": [],
   "source": [
    "#importing the clean movie dataset\n",
    "c_mov_df = pd.read_csv('clean_mov_df')"
   ]
  },
  {
   "cell_type": "code",
   "execution_count": 23,
   "metadata": {
    "scrolled": true
   },
   "outputs": [
    {
     "data": {
      "image/png": "[encoded data removed]",
      "text/plain": [
       "<Figure size 1080x1080 with 1 Axes>"
      ]
     },
     "metadata": {
      "needs_background": "light"
     },
     "output_type": "display_data"
    }
   ],
   "source": [
    "#Plotting number of film produced by year\n",
    "c_mov_df.groupby('release_year')['original_title'].count().plot(kind='line', figsize=(15,15))\n",
    "plt.title('Number of Movies release from 1960 to 2015')\n",
    "plt.xlabel('Release Year')\n",
    "plt.ylabel('Number of Movies')\n",
    "plt.legend();"
   ]
  },
  {
   "cell_type": "markdown",
   "metadata": {},
   "source": [
    "### The chart above showed that movies production started to increase in the late 1970s and has continue ever since"
   ]
  },
  {
   "cell_type": "code",
   "execution_count": 24,
   "metadata": {},
   "outputs": [],
   "source": [
    "#sampling data from 1980\n",
    "mov_data_80_to_15 = c_mov_df.query('release_year >= 1980')"
   ]
  },
  {
   "cell_type": "code",
   "execution_count": 25,
   "metadata": {},
   "outputs": [
    {
     "data": {
      "image/png": "[encoded data removed]",
      "text/plain": [
       "<Figure size 1080x576 with 1 Axes>"
      ]
     },
     "metadata": {
      "needs_background": "light"
     },
     "output_type": "display_data"
    }
   ],
   "source": [
    "mov_data_80_to_15.groupby('release_year')['original_title'].count().plot(kind='bar', figsize=(15,8))\n",
    "plt.title('Number of Movies release from 1980 to 2015')\n",
    "plt.xlabel('Release Year')\n",
    "plt.ylabel('Number of Movies')\n",
    "plt.legend();"
   ]
  },
  {
   "cell_type": "markdown",
   "metadata": {},
   "source": [
    "### The Chart above indicated that though movie production had been on the rise, there is a decline in 2012, production picked up in 2013 and from 2013, production has seen decline in 2014 and 2015"
   ]
  },
  {
   "cell_type": "code",
   "execution_count": 26,
   "metadata": {},
   "outputs": [
    {
     "name": "stdout",
     "output_type": "stream",
     "text": [
      "2356505847\n"
     ]
    },
    {
     "data": {
      "text/plain": [
       "original_title    ã‚¢ãƒƒãƒ—ãƒ«ã‚·ãƒ¼ãƒ‰\n",
       "release_year                       2015\n",
       "revenue                      2781505847\n",
       "vote_count                         9767\n",
       "budget                        425000000\n",
       "dtype: object"
      ]
     },
     "execution_count": 26,
     "metadata": {},
     "output_type": "execute_result"
    }
   ],
   "source": [
    "rev = mov_data_80_to_15[['original_title','release_year','revenue', 'vote_count','budget']].max().revenue \n",
    "bug = mov_data_80_to_15[['original_title','release_year','revenue', 'vote_count','budget']].max().budget\n",
    "print(rev-bug)\n",
    "mov_data_80_to_15[['original_title','release_year','revenue', 'vote_count','budget']].max()"
   ]
  },
  {
   "cell_type": "markdown",
   "metadata": {},
   "source": [
    "## The highest movie of all time with 9767 votes\n",
    "- Title - ã‚¢ãƒƒãƒ—ãƒ«ã‚·ãƒ¼ãƒ‰\n",
    "- \\$2,781,505,847 in Revenue\n",
    "- \\$2,356,505,847 in profit\n"
   ]
  },
  {
   "cell_type": "code",
   "execution_count": 27,
   "metadata": {},
   "outputs": [
    {
     "name": "stdout",
     "output_type": "stream",
     "text": [
      "2\n"
     ]
    },
    {
     "data": {
      "text/plain": [
       "original_title     '71\n",
       "release_year      1980\n",
       "revenue              2\n",
       "vote_count          10\n",
       "budget               0\n",
       "dtype: object"
      ]
     },
     "execution_count": 27,
     "metadata": {},
     "output_type": "execute_result"
    }
   ],
   "source": [
    "rev = mov_data_80_to_15[['original_title','release_year','revenue', 'vote_count','budget']].min().revenue \n",
    "bug = mov_data_80_to_15[['original_title','release_year','revenue', 'vote_count','budget']].min().budget\n",
    "print(rev-bug)\n",
    "mov_data_80_to_15[['original_title','release_year','revenue', 'vote_count','budget']].min()"
   ]
  },
  {
   "cell_type": "markdown",
   "metadata": {},
   "source": [
    "## The lowest movie of all time with 10 votes\n",
    "- Title - 71\n",
    "- \\$2 in Revenue\n",
    "- \\$2 in profit"
   ]
  },
  {
   "cell_type": "markdown",
   "metadata": {},
   "source": [
    "### Research Question 2  Director with most film production"
   ]
  },
  {
   "cell_type": "code",
   "execution_count": 28,
   "metadata": {},
   "outputs": [],
   "source": [
    "#retrieving the director and title column\n",
    "dir_list_df = mov_data_80_to_15.loc[:,['director', 'original_title']]"
   ]
  },
  {
   "cell_type": "code",
   "execution_count": 29,
   "metadata": {},
   "outputs": [],
   "source": [
    "#Counting number of movie produced and sorting in descending order\n",
    "top_dir = dir_list_df.groupby(['director']).count().sort_values(by='original_title',ascending=False)"
   ]
  },
  {
   "cell_type": "code",
   "execution_count": 30,
   "metadata": {},
   "outputs": [
    {
     "data": {
      "text/html": [
       "<div>\n",
       "<style scoped>\n",
       "    .dataframe tbody tr th:only-of-type {\n",
       "        vertical-align: middle;\n",
       "    }\n",
       "\n",
       "    .dataframe tbody tr th {\n",
       "        vertical-align: top;\n",
       "    }\n",
       "\n",
       "    .dataframe thead th {\n",
       "        text-align: right;\n",
       "    }\n",
       "</style>\n",
       "<table border=\"1\" class=\"dataframe\">\n",
       "  <thead>\n",
       "    <tr style=\"text-align: right;\">\n",
       "      <th></th>\n",
       "      <th>original_title</th>\n",
       "    </tr>\n",
       "    <tr>\n",
       "      <th>director</th>\n",
       "      <th></th>\n",
       "    </tr>\n",
       "  </thead>\n",
       "  <tbody>\n",
       "    <tr>\n",
       "      <th>Steven Spielberg</th>\n",
       "      <td>23</td>\n",
       "    </tr>\n",
       "    <tr>\n",
       "      <th>Clint Eastwood</th>\n",
       "      <td>22</td>\n",
       "    </tr>\n",
       "    <tr>\n",
       "      <th>Ridley Scott</th>\n",
       "      <td>19</td>\n",
       "    </tr>\n",
       "    <tr>\n",
       "      <th>Ron Howard</th>\n",
       "      <td>18</td>\n",
       "    </tr>\n",
       "    <tr>\n",
       "      <th>Woody Allen</th>\n",
       "      <td>18</td>\n",
       "    </tr>\n",
       "    <tr>\n",
       "      <th>Steven Soderbergh</th>\n",
       "      <td>17</td>\n",
       "    </tr>\n",
       "    <tr>\n",
       "      <th>Tony Scott</th>\n",
       "      <td>16</td>\n",
       "    </tr>\n",
       "    <tr>\n",
       "      <th>Tim Burton</th>\n",
       "      <td>16</td>\n",
       "    </tr>\n",
       "    <tr>\n",
       "      <th>Joel Schumacher</th>\n",
       "      <td>16</td>\n",
       "    </tr>\n",
       "    <tr>\n",
       "      <th>Oliver Stone</th>\n",
       "      <td>15</td>\n",
       "    </tr>\n",
       "    <tr>\n",
       "      <th>Martin Scorsese</th>\n",
       "      <td>15</td>\n",
       "    </tr>\n",
       "    <tr>\n",
       "      <th>Rob Reiner</th>\n",
       "      <td>15</td>\n",
       "    </tr>\n",
       "    <tr>\n",
       "      <th>Renny Harlin</th>\n",
       "      <td>15</td>\n",
       "    </tr>\n",
       "    <tr>\n",
       "      <th>Barry Levinson</th>\n",
       "      <td>14</td>\n",
       "    </tr>\n",
       "    <tr>\n",
       "      <th>Brian De Palma</th>\n",
       "      <td>14</td>\n",
       "    </tr>\n",
       "    <tr>\n",
       "      <th>Robert Zemeckis</th>\n",
       "      <td>14</td>\n",
       "    </tr>\n",
       "    <tr>\n",
       "      <th>Wes Craven</th>\n",
       "      <td>13</td>\n",
       "    </tr>\n",
       "    <tr>\n",
       "      <th>Richard Donner</th>\n",
       "      <td>12</td>\n",
       "    </tr>\n",
       "    <tr>\n",
       "      <th>Richard Linklater</th>\n",
       "      <td>12</td>\n",
       "    </tr>\n",
       "    <tr>\n",
       "      <th>Ivan Reitman</th>\n",
       "      <td>12</td>\n",
       "    </tr>\n",
       "    <tr>\n",
       "      <th>Robert Rodriguez</th>\n",
       "      <td>12</td>\n",
       "    </tr>\n",
       "    <tr>\n",
       "      <th>Chris Columbus</th>\n",
       "      <td>12</td>\n",
       "    </tr>\n",
       "    <tr>\n",
       "      <th>Lasse HallstrÃ¶m</th>\n",
       "      <td>12</td>\n",
       "    </tr>\n",
       "    <tr>\n",
       "      <th>David Cronenberg</th>\n",
       "      <td>12</td>\n",
       "    </tr>\n",
       "    <tr>\n",
       "      <th>Kevin Smith</th>\n",
       "      <td>11</td>\n",
       "    </tr>\n",
       "    <tr>\n",
       "      <th>Phillip Noyce</th>\n",
       "      <td>11</td>\n",
       "    </tr>\n",
       "    <tr>\n",
       "      <th>Garry Marshall</th>\n",
       "      <td>11</td>\n",
       "    </tr>\n",
       "    <tr>\n",
       "      <th>Spike Lee</th>\n",
       "      <td>11</td>\n",
       "    </tr>\n",
       "    <tr>\n",
       "      <th>Walter Hill</th>\n",
       "      <td>11</td>\n",
       "    </tr>\n",
       "    <tr>\n",
       "      <th>Michael Mann</th>\n",
       "      <td>11</td>\n",
       "    </tr>\n",
       "    <tr>\n",
       "      <th>Gus Van Sant</th>\n",
       "      <td>11</td>\n",
       "    </tr>\n",
       "    <tr>\n",
       "      <th>Peter Jackson</th>\n",
       "      <td>11</td>\n",
       "    </tr>\n",
       "  </tbody>\n",
       "</table>\n",
       "</div>"
      ],
      "text/plain": [
       "                   original_title\n",
       "director                         \n",
       "Steven Spielberg               23\n",
       "Clint Eastwood                 22\n",
       "Ridley Scott                   19\n",
       "Ron Howard                     18\n",
       "Woody Allen                    18\n",
       "Steven Soderbergh              17\n",
       "Tony Scott                     16\n",
       "Tim Burton                     16\n",
       "Joel Schumacher                16\n",
       "Oliver Stone                   15\n",
       "Martin Scorsese                15\n",
       "Rob Reiner                     15\n",
       "Renny Harlin                   15\n",
       "Barry Levinson                 14\n",
       "Brian De Palma                 14\n",
       "Robert Zemeckis                14\n",
       "Wes Craven                     13\n",
       "Richard Donner                 12\n",
       "Richard Linklater              12\n",
       "Ivan Reitman                   12\n",
       "Robert Rodriguez               12\n",
       "Chris Columbus                 12\n",
       "Lasse HallstrÃ¶m               12\n",
       "David Cronenberg               12\n",
       "Kevin Smith                    11\n",
       "Phillip Noyce                  11\n",
       "Garry Marshall                 11\n",
       "Spike Lee                      11\n",
       "Walter Hill                    11\n",
       "Michael Mann                   11\n",
       "Gus Van Sant                   11\n",
       "Peter Jackson                  11"
      ]
     },
     "execution_count": 30,
     "metadata": {},
     "output_type": "execute_result"
    }
   ],
   "source": [
    "top_dir.query('original_title > 10')"
   ]
  },
  {
   "cell_type": "code",
   "execution_count": 31,
   "metadata": {},
   "outputs": [
    {
     "data": {
      "image/png": "[encoded data removed]",
      "text/plain": [
       "<Figure size 1080x1080 with 1 Axes>"
      ]
     },
     "metadata": {
      "needs_background": "light"
     },
     "output_type": "display_data"
    }
   ],
   "source": [
    "top_dir.query('original_title > 10').plot(kind='bar', figsize=(15,15))\n",
    "plt.title('Number of Movies Produce by Director')\n",
    "plt.xlabel('Director')\n",
    "plt.ylabel('Number of Movies')\n",
    "plt.legend();"
   ]
  },
  {
   "cell_type": "markdown",
   "metadata": {},
   "source": [
    "#### from the graph above we can see that Steven Spielberg produced more movies than the rest of the directors"
   ]
  },
  {
   "cell_type": "markdown",
   "metadata": {},
   "source": [
    "### Research Question 3  Movie with cost savings in excess of \\$50,000,000"
   ]
  },
  {
   "cell_type": "code",
   "execution_count": null,
   "metadata": {
    "scrolled": true
   },
   "outputs": [],
   "source": [
    "#Adding a new column to the dataset for cost_savings\n",
    "mov_data_80_to_15['cost_savings'] = mov_data_80_to_15['budget_adj'] - mov_data_80_to_15['budget']"
   ]
  },
  {
   "cell_type": "code",
   "execution_count": null,
   "metadata": {},
   "outputs": [],
   "source": [
    "#Sorting the dataset in descending order\n",
    "mov_with_cs = mov_data_80_to_15[['original_title', 'cost_savings']].sort_values(by='cost_savings', ascending=False)"
   ]
  },
  {
   "cell_type": "code",
   "execution_count": null,
   "metadata": {},
   "outputs": [],
   "source": [
    "#Removing data that have less than $50,000,000 in cost savings\n",
    "mov_with_pcs = mov_with_cs.query('cost_savings > 50000000')"
   ]
  },
  {
   "cell_type": "code",
   "execution_count": null,
   "metadata": {},
   "outputs": [],
   "source": [
    "mov_with_pcs.head()"
   ]
  },
  {
   "cell_type": "code",
   "execution_count": null,
   "metadata": {},
   "outputs": [],
   "source": [
    "#PLotting the result\n",
    "plt.figure(figsize=(15,15))\n",
    "\n",
    "plt.pie(mov_with_pcs.cost_savings, labels=mov_with_pcs.original_title, autopct='%1.1f%%')\n",
    "plt.title('Movie with Cost savings');"
   ]
  },
  {
   "cell_type": "markdown",
   "metadata": {},
   "source": [
    "#### Superman II is the movie with the highest cost savings before 2016"
   ]
  },
  {
   "cell_type": "markdown",
   "metadata": {},
   "source": [
    "<a id='conclusions'></a>\n",
    "## Conclusions\n",
    "\n",
    "> #### Result\n",
    ">\n",
    "> - The movie industry had seen an upward trend from late 1970, though a decline had set in from 2013, I was unable to determine id the decline continued beyond 2015 because the dataset end in the year 2015.\n",
    ">\n",
    "> - The highest movie of all time before 2016 both in revenue and votes is \"ã‚¢ãƒƒãƒ—ãƒ«ã‚·ãƒ¼ãƒ‰\" while 71 is the lowest.\n",
    ">\n",
    "> - Before 2016, Steven Spielberg\thad director 23 movies, followed by Clint Eastwood, who had directed 22 movies, the third place goes to Ridley Scoot with 19 movies, while Ron Howard and Woody Allen came fourth with 18 movies\n",
    ">\n",
    "> - While comparing the budget with the adjusted budget, the top cost saving movie is Supermann II\n",
    ">\n",
    "> #### Limitation\n",
    ">\n",
    "> - There are no record from 2016 to date, as such the decline experience in 2014 could not be analyse further\n",
    ">\n",
    "> - The dataset did not provided revenue earned by the director for each movie produced\n",
    ">\n",
    "> - The dataset did not provided revenue earned by the casts(actors) for the role in the movie\n",
    "\n",
    "\n"
   ]
  }
 ],
 "metadata": {
  "kernelspec": {
   "display_name": "Python 3 (ipykernel)",
   "language": "python",
   "name": "python3"
  },
  "language_info": {
   "codemirror_mode": {
    "name": "ipython",
    "version": 3
   },
   "file_extension": ".py",
   "mimetype": "text/x-python",
   "name": "python",
   "nbconvert_exporter": "python",
   "pygments_lexer": "ipython3",
   "version": "3.9.7"
  }
 },
 "nbformat": 4,
 "nbformat_minor": 2
}
